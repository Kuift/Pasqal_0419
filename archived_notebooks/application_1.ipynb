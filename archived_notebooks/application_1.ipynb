{
 "cells": [
  {
   "cell_type": "code",
   "execution_count": null,
   "id": "241d7644",
   "metadata": {},
   "outputs": [],
   "source": [
    "import time\n",
    "\n",
    "import numpy as np\n",
    "import matplotlib.pyplot as plt\n",
    "import qutip\n",
    "from skopt import gp_minimize\n",
    "\n",
    "from pulser import Pulse, Sequence, Register\n",
    "from pulser_simulation import QutipEmulator\n",
    "from pulser.waveforms import InterpolatedWaveform\n",
    "from pulser.devices import AnalogDevice"
   ]
  },
  {
   "cell_type": "code",
   "execution_count": null,
   "id": "15f4d4ed",
   "metadata": {},
   "outputs": [],
   "source": [
    "# Parameters in rad/µs and ns\n",
    "\n",
    "T = 1000  # duration\n",
    "U = 2 * np.pi * 5.0\n",
    "\n",
    "Omega_max = 0.5 * U\n",
    "\n",
    "delta_0 = -1.0 * U\n",
    "delta_f = 1.0 * U\n",
    "\n",
    "R_interatomic = AnalogDevice.rydberg_blockade_radius(Omega_max) / 1.2\n",
    "print(f\"Interatomic Radius is: {R_interatomic}µm.\")\n",
    "\n",
    "N_side = 4\n",
    "coords = (\n",
    "    [R_interatomic * np.r_[x, 0] for x in range(N_side - 1)]\n",
    "    + [R_interatomic * np.r_[N_side - 1, y] for y in range(N_side - 1)]\n",
    "    + [\n",
    "        R_interatomic * np.r_[N_side - 1 - x, N_side - 1]\n",
    "        for x in range(N_side - 1)\n",
    "    ]\n",
    "    + [R_interatomic * np.r_[0, N_side - 1 - y] for y in range(N_side - 1)]\n",
    ")\n",
    "reg = Register.from_coordinates(coords, prefix=\"q\")\n",
    "N = len(coords)\n",
    "N_samples = 1000\n",
    "reg.draw()"
   ]
  },
  {
   "cell_type": "code",
   "execution_count": null,
   "id": "1f84db60",
   "metadata": {},
   "outputs": [],
   "source": [
    "seq = Sequence(reg, AnalogDevice)\n",
    "seq.declare_channel(\"ising\", \"rydberg_global\")\n",
    "\n",
    "tol = 1e-6\n",
    "max_amp = seq.declared_channels[\"ising\"].max_amp * (1 - tol)\n",
    "max_det = seq.declared_channels[\"ising\"].max_abs_detuning * (1 - tol)\n",
    "Omega_max = min(max_amp, Omega_max)\n",
    "delta_0 = np.sign(delta_0) * min(max_det, abs(delta_0))\n",
    "delta_f = np.sign(delta_f) * min(max_det, abs(delta_f))\n",
    "print(Omega_max / U, np.round(delta_0 / U, 2), delta_f / U)"
   ]
  },
  {
   "cell_type": "code",
   "execution_count": null,
   "id": "e8050a02",
   "metadata": {},
   "outputs": [],
   "source": [
    "# Size of the parameter space\n",
    "m = 3\n",
    "\n",
    "# Random instance of the parameter space\n",
    "amp_params = np.random.uniform(0, Omega_max, m)\n",
    "det_params = np.random.uniform(delta_0, delta_f, m)"
   ]
  },
  {
   "cell_type": "code",
   "execution_count": null,
   "id": "bee54a47",
   "metadata": {},
   "outputs": [],
   "source": [
    "def create_interp_pulse(amp_params, det_params):\n",
    "    return Pulse(\n",
    "        InterpolatedWaveform(T, [1e-9, *amp_params, 1e-9]),\n",
    "        InterpolatedWaveform(T, [delta_0, *det_params, delta_f]),\n",
    "        0,\n",
    "    )"
   ]
  },
  {
   "cell_type": "code",
   "execution_count": null,
   "id": "5e965cb9",
   "metadata": {},
   "outputs": [],
   "source": [
    "seq = Sequence(reg, AnalogDevice)\n",
    "seq.declare_channel(\"ising\", \"rydberg_global\")\n",
    "seq.add(create_interp_pulse(amp_params, det_params), \"ising\")\n",
    "seq.draw()"
   ]
  },
  {
   "cell_type": "code",
   "execution_count": null,
   "id": "374e3ef8",
   "metadata": {},
   "outputs": [],
   "source": [
    "simul = QutipEmulator.from_sequence(seq)\n",
    "results = simul.run()\n",
    "final = results.get_final_state()"
   ]
  },
  {
   "cell_type": "code",
   "execution_count": null,
   "id": "7581e652",
   "metadata": {},
   "outputs": [],
   "source": [
    "def occupation(j, N):\n",
    "    up = qutip.basis(2, 0)\n",
    "    prod = [qutip.qeye(2) for _ in range(N)]\n",
    "    prod[j] = up * up.dag()\n",
    "    return qutip.tensor(prod)\n",
    "\n",
    "\n",
    "def get_corr_pairs(k, N):\n",
    "    corr_pairs = [[i, (i + k) % N] for i in range(N)]\n",
    "    return corr_pairs\n",
    "\n",
    "\n",
    "def get_corr_function(k, N, state):\n",
    "    corr_pairs = get_corr_pairs(k, N)\n",
    "    operators = [occupation(j, N) for j in range(N)]\n",
    "    covariance = 0\n",
    "    for qi, qj in corr_pairs:\n",
    "        covariance += qutip.expect(operators[qi] * operators[qj], state)\n",
    "        covariance -= qutip.expect(operators[qi], state) * qutip.expect(\n",
    "            operators[qj], state\n",
    "        )\n",
    "    return covariance / len(corr_pairs)\n",
    "\n",
    "\n",
    "def get_full_corr_function(reg, state):\n",
    "    N = len(reg.qubits)\n",
    "    correlation_function = {}\n",
    "    for k in range(-N // 2, N // 2 + 1):\n",
    "        correlation_function[k] = get_corr_function(k, N, state)\n",
    "    return correlation_function\n",
    "\n",
    "\n",
    "def get_neel_structure_factor(reg, state):\n",
    "    N = len(reg.qubits)\n",
    "    st_fac = 0\n",
    "    for k in range(-N // 2, N // 2 + 1):\n",
    "        kk = np.abs(k)\n",
    "        st_fac += 4 * (-1) ** kk * get_corr_function(k, N, state)\n",
    "    return st_fac"
   ]
  },
  {
   "cell_type": "code",
   "execution_count": null,
   "id": "f317da78",
   "metadata": {},
   "outputs": [],
   "source": [
    "def proba_from_state(results, min_p=0.1):\n",
    "    sampling = results.sample_final_state(N_samples=N_samples)\n",
    "    return {\n",
    "        k: f\"{100*v/N_samples}%\"\n",
    "        for k, v in sampling.items()\n",
    "        if v / N_samples > min_p\n",
    "    }"
   ]
  },
  {
   "cell_type": "code",
   "execution_count": null,
   "id": "5f52e993",
   "metadata": {},
   "outputs": [],
   "source": [
    "# Create antiferromagnetic state as the superposition of the two checkerboard patterns:\n",
    "AF1 = qutip.tensor([qutip.basis(2, k % 2) for k in range(N)])\n",
    "AF2 = qutip.tensor([qutip.basis(2, (k + 1) % 2) for k in range(N)])\n",
    "AF_state = (AF1 + AF2).unit()\n",
    "\n",
    "t1 = time.process_time()\n",
    "S_max = get_neel_structure_factor(reg, AF_state)\n",
    "print(\"S_Neel(AF state) =\", S_max)\n",
    "t2 = time.process_time()\n",
    "print(\"computed in\", (t2 - t1), \"sec\")"
   ]
  },
  {
   "cell_type": "code",
   "execution_count": null,
   "id": "abac89b2",
   "metadata": {},
   "outputs": [],
   "source": [
    "def score(params):\n",
    "    seq = Sequence(reg, AnalogDevice)\n",
    "    seq.declare_channel(\"ising\", \"rydberg_global\")\n",
    "    seq.add(create_interp_pulse(params[:m], params[m:]), \"ising\")\n",
    "\n",
    "    simul = QutipEmulator.from_sequence(seq, sampling_rate=0.5)\n",
    "    results = simul.run()\n",
    "\n",
    "    sampling = results.sample_final_state(N_samples=N_samples)\n",
    "    sampled_state = sum(\n",
    "        [\n",
    "            np.sqrt(sampling[k] / N_samples) * qutip.ket(k)\n",
    "            for k in sampling.keys()\n",
    "        ]\n",
    "    )\n",
    "\n",
    "    F = get_neel_structure_factor(reg, sampled_state) / S_max\n",
    "\n",
    "    return 1 - F"
   ]
  },
  {
   "cell_type": "code",
   "execution_count": null,
   "id": "340b81c7",
   "metadata": {},
   "outputs": [],
   "source": [
    "score(np.r_[amp_params, det_params])"
   ]
  }
 ],
 "metadata": {
  "language_info": {
   "name": "python"
  }
 },
 "nbformat": 4,
 "nbformat_minor": 5
}
