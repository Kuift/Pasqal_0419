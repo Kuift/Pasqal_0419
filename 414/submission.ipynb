{
 "cells": [
  {
   "cell_type": "code",
   "execution_count": 9,
   "id": "57705fb7",
   "metadata": {},
   "outputs": [],
   "source": [
    "import numpy as np\n",
    "from pulser.waveforms import InterpolatedWaveform\n",
    "from pulser.devices import DigitalAnalogDevice\n",
    "import matplotlib.pyplot as plt\n",
    "from pulser import Pulse, Sequence, Register\n",
    "from pulser_simulation import QutipEmulator\n",
    "from scipy.optimize import minimize\n",
    "from scipy.spatial.distance import pdist, squareform"
   ]
  },
  {
   "cell_type": "code",
   "execution_count": 7,
   "id": "04a72ec4",
   "metadata": {},
   "outputs": [],
   "source": [
    "# helper function\n",
    "def plot_distribution(C):\n",
    "    C = dict(sorted(C.items(), key=lambda item: item[1], reverse=True))\n",
    "    plt.figure(figsize=(12, 6))\n",
    "    plt.xlabel(\"bitstrings\")\n",
    "    plt.ylabel(\"counts\")\n",
    "    plt.bar(C.keys(), C.values(), width=0.5)\n",
    "    plt.xticks(rotation=\"vertical\")\n",
    "    plt.show()"
   ]
  },
  {
   "cell_type": "markdown",
   "id": "13cd6e04",
   "metadata": {},
   "source": [
    "# Lets get the register position from the QUBO :"
   ]
  },
  {
   "cell_type": "code",
   "execution_count": null,
   "id": "9de64edc",
   "metadata": {},
   "outputs": [],
   "source": [
    "Q = []"
   ]
  },
  {
   "cell_type": "code",
   "execution_count": 10,
   "id": "363ac1e9",
   "metadata": {},
   "outputs": [
    {
     "ename": "NameError",
     "evalue": "name 'Q' is not defined",
     "output_type": "error",
     "traceback": [
      "\u001b[1;31m---------------------------------------------------------------------------\u001b[0m",
      "\u001b[1;31mNameError\u001b[0m                                 Traceback (most recent call last)",
      "Cell \u001b[1;32mIn[10], line 11\u001b[0m\n\u001b[0;32m      9\u001b[0m costs \u001b[38;5;241m=\u001b[39m []\n\u001b[0;32m     10\u001b[0m np\u001b[38;5;241m.\u001b[39mrandom\u001b[38;5;241m.\u001b[39mseed(\u001b[38;5;241m0\u001b[39m)\n\u001b[1;32m---> 11\u001b[0m x0 \u001b[38;5;241m=\u001b[39m np\u001b[38;5;241m.\u001b[39mrandom\u001b[38;5;241m.\u001b[39mrandom(\u001b[38;5;28mlen\u001b[39m(\u001b[43mQ\u001b[49m) \u001b[38;5;241m*\u001b[39m \u001b[38;5;241m2\u001b[39m)\n\u001b[0;32m     12\u001b[0m res \u001b[38;5;241m=\u001b[39m minimize(\n\u001b[0;32m     13\u001b[0m     evaluate_mapping,\n\u001b[0;32m     14\u001b[0m     x0,\n\u001b[1;32m   (...)\u001b[0m\n\u001b[0;32m     18\u001b[0m     options\u001b[38;5;241m=\u001b[39m{\u001b[38;5;124m\"\u001b[39m\u001b[38;5;124mmaxiter\u001b[39m\u001b[38;5;124m\"\u001b[39m: \u001b[38;5;241m200000\u001b[39m, \u001b[38;5;124m\"\u001b[39m\u001b[38;5;124mmaxfev\u001b[39m\u001b[38;5;124m\"\u001b[39m: \u001b[38;5;28;01mNone\u001b[39;00m},\n\u001b[0;32m     19\u001b[0m )\n\u001b[0;32m     20\u001b[0m coords \u001b[38;5;241m=\u001b[39m np\u001b[38;5;241m.\u001b[39mreshape(res\u001b[38;5;241m.\u001b[39mx, (\u001b[38;5;28mlen\u001b[39m(Q), \u001b[38;5;241m2\u001b[39m))\n",
      "\u001b[1;31mNameError\u001b[0m: name 'Q' is not defined"
     ]
    }
   ],
   "source": [
    "def evaluate_mapping(new_coords, Q):\n",
    "    \"\"\"Cost function to minimize. Ideally, the pairwise distances are conserved.\"\"\"\n",
    "    new_coords = np.reshape(new_coords, (len(Q), 2))\n",
    "    # computing the matrix of the distances between all coordinate pairs\n",
    "    new_Q = squareform(\n",
    "        DigitalAnalogDevice.interaction_coeff / pdist(new_coords) ** 6\n",
    "    )\n",
    "    return np.linalg.norm(new_Q - Q)\n",
    "costs = []\n",
    "np.random.seed(0)\n",
    "x0 = np.random.random(len(Q) * 2)\n",
    "res = minimize(\n",
    "    evaluate_mapping,\n",
    "    x0,\n",
    "    args=(Q,),\n",
    "    method=\"Nelder-Mead\",\n",
    "    tol=1e-6,\n",
    "    options={\"maxiter\": 200000, \"maxfev\": None},\n",
    ")\n",
    "coords = np.reshape(res.x, (len(Q), 2))\n"
   ]
  },
  {
   "cell_type": "code",
   "execution_count": null,
   "id": "8bfcc9b4",
   "metadata": {},
   "outputs": [],
   "source": [
    "qubits = {f\"q{i}\": coord for (i, coord) in enumerate(coords)}\n",
    "reg = Register(qubits)\n",
    "reg.draw(\n",
    "    blockade_radius=DigitalAnalogDevice.rydberg_blockade_radius(1.0),\n",
    "    draw_graph=False,\n",
    "    draw_half_radius=True,\n",
    ")"
   ]
  },
  {
   "cell_type": "markdown",
   "id": "34faa96f",
   "metadata": {},
   "source": [
    "# Lets now do QAA and find the state that minimize our qubo"
   ]
  },
  {
   "cell_type": "code",
   "execution_count": 3,
   "id": "dac8e994",
   "metadata": {},
   "outputs": [
    {
     "ename": "NameError",
     "evalue": "name 'Q' is not defined",
     "output_type": "error",
     "traceback": [
      "\u001b[1;31m---------------------------------------------------------------------------\u001b[0m",
      "\u001b[1;31mNameError\u001b[0m                                 Traceback (most recent call last)",
      "Cell \u001b[1;32mIn[3], line 2\u001b[0m\n\u001b[0;32m      1\u001b[0m \u001b[38;5;66;03m# We choose a median value between the min and the max\u001b[39;00m\n\u001b[1;32m----> 2\u001b[0m Omega \u001b[38;5;241m=\u001b[39m np\u001b[38;5;241m.\u001b[39mmedian(\u001b[43mQ\u001b[49m[Q \u001b[38;5;241m>\u001b[39m \u001b[38;5;241m0\u001b[39m]\u001b[38;5;241m.\u001b[39mflatten())\n\u001b[0;32m      3\u001b[0m delta_0 \u001b[38;5;241m=\u001b[39m \u001b[38;5;241m-\u001b[39m\u001b[38;5;241m5\u001b[39m  \u001b[38;5;66;03m# just has to be negative\u001b[39;00m\n\u001b[0;32m      4\u001b[0m delta_f \u001b[38;5;241m=\u001b[39m \u001b[38;5;241m-\u001b[39mdelta_0  \u001b[38;5;66;03m# just has to be positive\u001b[39;00m\n",
      "\u001b[1;31mNameError\u001b[0m: name 'Q' is not defined"
     ]
    }
   ],
   "source": [
    "# We choose a median value between the min and the max\n",
    "Omega = np.median(Q[Q > 0].flatten())\n",
    "delta_0 = -5  # just has to be negative\n",
    "delta_f = -delta_0  # just has to be positive\n",
    "T = 4000  # time in ns, we choose a time long enough to ensure the propagation of information in the system\n",
    "adiabatic_pulse = Pulse(\n",
    "    InterpolatedWaveform(T, [1e-9, Omega, 1e-9]),\n",
    "    InterpolatedWaveform(T, [delta_0, 0, delta_f]),\n",
    "    0,\n",
    ")\n",
    "seq = Sequence(reg, DigitalAnalogDevice)\n",
    "seq.declare_channel(\"ising\", \"rydberg_global\")\n",
    "seq.add(adiabatic_pulse, \"ising\")\n",
    "seq.draw()\n",
    "simul = QutipEmulator.from_sequence(seq)\n",
    "results = simul.run()\n",
    "final = results.get_final_state()\n",
    "count_dict = results.sample_final_state()\n",
    "plot_distribution(count_dict)"
   ]
  },
  {
   "cell_type": "markdown",
   "id": "733bf629",
   "metadata": {},
   "source": [
    "# Saving sequence to json to be imported into pulser studio"
   ]
  },
  {
   "cell_type": "code",
   "execution_count": null,
   "id": "3bb93a2e",
   "metadata": {},
   "outputs": [],
   "source": [
    "import time\n",
    "s_readable = seq.to_abstract_repr(\n",
    "json_dumps_options={\"indent\": 1},\n",
    "seq_name=\"qaoa_seq\",\n",
    ")\n",
    "with open(f\"qaoa2{time.time()}.json\", \"w\") as f:\n",
    "    f.write(s_readable)"
   ]
  }
 ],
 "metadata": {
  "kernelspec": {
   "display_name": "Python 3",
   "language": "python",
   "name": "python3"
  },
  "language_info": {
   "codemirror_mode": {
    "name": "ipython",
    "version": 3
   },
   "file_extension": ".py",
   "mimetype": "text/x-python",
   "name": "python",
   "nbconvert_exporter": "python",
   "pygments_lexer": "ipython3",
   "version": "3.12.6"
  }
 },
 "nbformat": 4,
 "nbformat_minor": 5
}
