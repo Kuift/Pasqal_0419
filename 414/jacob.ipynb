{
 "cells": [
  {
   "cell_type": "code",
   "execution_count": null,
   "id": "342f08bb",
   "metadata": {},
   "outputs": [
    {
     "name": "stderr",
     "output_type": "stream",
     "text": [
      "c:\\Users\\Kuift\\AppData\\Local\\Programs\\Python\\Python312\\Lib\\site-packages\\pulser\\register\\register.py:58: DeprecationWarning: Usage of `int`s or any non-`str`types as `QubitId`s will be deprecated. Define your `QubitId`s as `str`s, prefer setting `prefix='q'` when using classmethods, as that will become the new default once `int` qubit IDs become invalid.\n",
      "  super().__init__(qubits, **kwargs)\n"
     ]
    },
    {
     "ename": "ValueError",
     "evalue": "The pulse's amplitude goes over the maximum value allowed for the chosen channel.",
     "output_type": "error",
     "traceback": [
      "\u001b[1;31m---------------------------------------------------------------------------\u001b[0m",
      "\u001b[1;31mValueError\u001b[0m                                Traceback (most recent call last)",
      "Cell \u001b[1;32mIn[24], line 29\u001b[0m\n\u001b[0;32m     26\u001b[0m detuning_waveform \u001b[38;5;241m=\u001b[39m InterpolatedWaveform(duration, delta)\n\u001b[0;32m     27\u001b[0m pulse \u001b[38;5;241m=\u001b[39m Pulse\u001b[38;5;241m.\u001b[39mConstantDetuning(detuning_waveform, detuning\u001b[38;5;241m=\u001b[39m\u001b[38;5;241m0\u001b[39m, phase\u001b[38;5;241m=\u001b[39m\u001b[38;5;241m0\u001b[39m)\n\u001b[1;32m---> 29\u001b[0m \u001b[43mseq\u001b[49m\u001b[38;5;241;43m.\u001b[39;49m\u001b[43madd\u001b[49m\u001b[43m(\u001b[49m\u001b[43mpulse\u001b[49m\u001b[43m,\u001b[49m\u001b[43m \u001b[49m\u001b[38;5;124;43m\"\u001b[39;49m\u001b[38;5;124;43mrydberg\u001b[39;49m\u001b[38;5;124;43m\"\u001b[39;49m\u001b[43m)\u001b[49m\n\u001b[0;32m     30\u001b[0m seq\u001b[38;5;241m.\u001b[39mdraw()\n\u001b[0;32m     32\u001b[0m \u001b[38;5;66;03m# Run simulation\u001b[39;00m\n",
      "File \u001b[1;32mc:\\Users\\Kuift\\AppData\\Local\\Programs\\Python\\Python312\\Lib\\site-packages\\pulser\\sequence\\_decorators.py:82\u001b[0m, in \u001b[0;36mverify_parametrization.<locals>.wrapper\u001b[1;34m(self, *args, **kwargs)\u001b[0m\n\u001b[0;32m     80\u001b[0m \u001b[38;5;28;01mfor\u001b[39;00m x \u001b[38;5;129;01min\u001b[39;00m chain(args, kwargs\u001b[38;5;241m.\u001b[39mvalues()):\n\u001b[0;32m     81\u001b[0m     verify_variable(\u001b[38;5;28mself\u001b[39m, x)\n\u001b[1;32m---> 82\u001b[0m \u001b[43mfunc\u001b[49m\u001b[43m(\u001b[49m\u001b[38;5;28;43mself\u001b[39;49m\u001b[43m,\u001b[49m\u001b[43m \u001b[49m\u001b[38;5;241;43m*\u001b[39;49m\u001b[43margs\u001b[49m\u001b[43m,\u001b[49m\u001b[43m \u001b[49m\u001b[38;5;241;43m*\u001b[39;49m\u001b[38;5;241;43m*\u001b[39;49m\u001b[43mkwargs\u001b[49m\u001b[43m)\u001b[49m\n",
      "File \u001b[1;32mc:\\Users\\Kuift\\AppData\\Local\\Programs\\Python\\Python312\\Lib\\site-packages\\pulser\\sequence\\_decorators.py:94\u001b[0m, in \u001b[0;36mstore.<locals>.wrapper\u001b[1;34m(self, *args, **kwargs)\u001b[0m\n\u001b[0;32m     90\u001b[0m \u001b[38;5;129m@wraps\u001b[39m(func)\n\u001b[0;32m     91\u001b[0m \u001b[38;5;129m@verify_parametrization\u001b[39m\n\u001b[0;32m     92\u001b[0m \u001b[38;5;28;01mdef\u001b[39;00m\u001b[38;5;250m \u001b[39m\u001b[38;5;21mwrapper\u001b[39m(\u001b[38;5;28mself\u001b[39m: Sequence, \u001b[38;5;241m*\u001b[39margs: Any, \u001b[38;5;241m*\u001b[39m\u001b[38;5;241m*\u001b[39mkwargs: Any) \u001b[38;5;241m-\u001b[39m\u001b[38;5;241m>\u001b[39m Any:\n\u001b[0;32m     93\u001b[0m     storage \u001b[38;5;241m=\u001b[39m \u001b[38;5;28mself\u001b[39m\u001b[38;5;241m.\u001b[39m_calls \u001b[38;5;28;01mif\u001b[39;00m \u001b[38;5;28mself\u001b[39m\u001b[38;5;241m.\u001b[39m_building \u001b[38;5;28;01melse\u001b[39;00m \u001b[38;5;28mself\u001b[39m\u001b[38;5;241m.\u001b[39m_to_build_calls\n\u001b[1;32m---> 94\u001b[0m     \u001b[43mfunc\u001b[49m\u001b[43m(\u001b[49m\u001b[38;5;28;43mself\u001b[39;49m\u001b[43m,\u001b[49m\u001b[43m \u001b[49m\u001b[38;5;241;43m*\u001b[39;49m\u001b[43margs\u001b[49m\u001b[43m,\u001b[49m\u001b[43m \u001b[49m\u001b[38;5;241;43m*\u001b[39;49m\u001b[38;5;241;43m*\u001b[39;49m\u001b[43mkwargs\u001b[49m\u001b[43m)\u001b[49m\n\u001b[0;32m     95\u001b[0m     storage\u001b[38;5;241m.\u001b[39mappend(_Call(func\u001b[38;5;241m.\u001b[39m\u001b[38;5;18m__name__\u001b[39m, args, kwargs))\n",
      "File \u001b[1;32mc:\\Users\\Kuift\\AppData\\Local\\Programs\\Python\\Python312\\Lib\\site-packages\\pulser\\sequence\\_decorators.py:105\u001b[0m, in \u001b[0;36mmark_non_empty.<locals>.wrapper\u001b[1;34m(self, *args, **kwargs)\u001b[0m\n\u001b[0;32m    103\u001b[0m \u001b[38;5;129m@wraps\u001b[39m(func)\n\u001b[0;32m    104\u001b[0m \u001b[38;5;28;01mdef\u001b[39;00m\u001b[38;5;250m \u001b[39m\u001b[38;5;21mwrapper\u001b[39m(\u001b[38;5;28mself\u001b[39m: Sequence, \u001b[38;5;241m*\u001b[39margs: Any, \u001b[38;5;241m*\u001b[39m\u001b[38;5;241m*\u001b[39mkwargs: Any) \u001b[38;5;241m-\u001b[39m\u001b[38;5;241m>\u001b[39m Any:\n\u001b[1;32m--> 105\u001b[0m     \u001b[43mfunc\u001b[49m\u001b[43m(\u001b[49m\u001b[38;5;28;43mself\u001b[39;49m\u001b[43m,\u001b[49m\u001b[43m \u001b[49m\u001b[38;5;241;43m*\u001b[39;49m\u001b[43margs\u001b[49m\u001b[43m,\u001b[49m\u001b[43m \u001b[49m\u001b[38;5;241;43m*\u001b[39;49m\u001b[38;5;241;43m*\u001b[39;49m\u001b[43mkwargs\u001b[49m\u001b[43m)\u001b[49m\n\u001b[0;32m    106\u001b[0m     \u001b[38;5;28mself\u001b[39m\u001b[38;5;241m.\u001b[39m_empty_sequence \u001b[38;5;241m=\u001b[39m \u001b[38;5;28;01mFalse\u001b[39;00m\n",
      "File \u001b[1;32mc:\\Users\\Kuift\\AppData\\Local\\Programs\\Python\\Python312\\Lib\\site-packages\\pulser\\sequence\\_decorators.py:121\u001b[0m, in \u001b[0;36mblock_if_measured.<locals>.wrapper\u001b[1;34m(self, *args, **kwargs)\u001b[0m\n\u001b[0;32m    116\u001b[0m \u001b[38;5;28;01mif\u001b[39;00m \u001b[38;5;28mself\u001b[39m\u001b[38;5;241m.\u001b[39mis_measured():\n\u001b[0;32m    117\u001b[0m     \u001b[38;5;28;01mraise\u001b[39;00m \u001b[38;5;167;01mRuntimeError\u001b[39;00m(\n\u001b[0;32m    118\u001b[0m         \u001b[38;5;124m\"\u001b[39m\u001b[38;5;124mThe sequence has been measured, no further \u001b[39m\u001b[38;5;124m\"\u001b[39m\n\u001b[0;32m    119\u001b[0m         \u001b[38;5;124m\"\u001b[39m\u001b[38;5;124mchanges are allowed.\u001b[39m\u001b[38;5;124m\"\u001b[39m\n\u001b[0;32m    120\u001b[0m     )\n\u001b[1;32m--> 121\u001b[0m \u001b[43mfunc\u001b[49m\u001b[43m(\u001b[49m\u001b[38;5;28;43mself\u001b[39;49m\u001b[43m,\u001b[49m\u001b[43m \u001b[49m\u001b[38;5;241;43m*\u001b[39;49m\u001b[43margs\u001b[49m\u001b[43m,\u001b[49m\u001b[43m \u001b[49m\u001b[38;5;241;43m*\u001b[39;49m\u001b[38;5;241;43m*\u001b[39;49m\u001b[43mkwargs\u001b[49m\u001b[43m)\u001b[49m\n",
      "File \u001b[1;32mc:\\Users\\Kuift\\AppData\\Local\\Programs\\Python\\Python312\\Lib\\site-packages\\pulser\\sequence\\sequence.py:1281\u001b[0m, in \u001b[0;36mSequence.add\u001b[1;34m(self, pulse, channel, protocol)\u001b[0m\n\u001b[0;32m   1276\u001b[0m \u001b[38;5;28;01mif\u001b[39;00m \u001b[38;5;28misinstance\u001b[39m(\u001b[38;5;28mself\u001b[39m\u001b[38;5;241m.\u001b[39mdeclared_channels[channel], DMM):\n\u001b[0;32m   1277\u001b[0m     \u001b[38;5;28;01mraise\u001b[39;00m \u001b[38;5;167;01mValueError\u001b[39;00m(\n\u001b[0;32m   1278\u001b[0m         \u001b[38;5;124m\"\u001b[39m\u001b[38;5;124m`Sequence.add()` can\u001b[39m\u001b[38;5;124m'\u001b[39m\u001b[38;5;124mt be used on a DMM channel. \u001b[39m\u001b[38;5;124m\"\u001b[39m\n\u001b[0;32m   1279\u001b[0m         \u001b[38;5;124m\"\u001b[39m\u001b[38;5;124mUse `Sequence.add_dmm_detuning()` instead.\u001b[39m\u001b[38;5;124m\"\u001b[39m\n\u001b[0;32m   1280\u001b[0m     )\n\u001b[1;32m-> 1281\u001b[0m \u001b[38;5;28;43mself\u001b[39;49m\u001b[38;5;241;43m.\u001b[39;49m\u001b[43m_add\u001b[49m\u001b[43m(\u001b[49m\u001b[43mpulse\u001b[49m\u001b[43m,\u001b[49m\u001b[43m \u001b[49m\u001b[43mchannel\u001b[49m\u001b[43m,\u001b[49m\u001b[43m \u001b[49m\u001b[43mprotocol\u001b[49m\u001b[43m)\u001b[49m\n",
      "File \u001b[1;32mc:\\Users\\Kuift\\AppData\\Local\\Programs\\Python\\Python312\\Lib\\site-packages\\pulser\\sequence\\sequence.py:2018\u001b[0m, in \u001b[0;36mSequence._add\u001b[1;34m(self, pulse, channel, protocol, phase_drift_params)\u001b[0m\n\u001b[0;32m   2015\u001b[0m \u001b[38;5;28;01melse\u001b[39;00m:\n\u001b[0;32m   2016\u001b[0m     phase_ref \u001b[38;5;241m=\u001b[39m ph_refs\u001b[38;5;241m.\u001b[39mpop()\n\u001b[1;32m-> 2018\u001b[0m pulse \u001b[38;5;241m=\u001b[39m \u001b[38;5;28;43mself\u001b[39;49m\u001b[38;5;241;43m.\u001b[39;49m\u001b[43m_validate_and_adjust_pulse\u001b[49m\u001b[43m(\u001b[49m\u001b[43mpulse\u001b[49m\u001b[43m,\u001b[49m\u001b[43m \u001b[49m\u001b[43mchannel\u001b[49m\u001b[43m,\u001b[49m\u001b[43m \u001b[49m\u001b[43mphase_ref\u001b[49m\u001b[43m)\u001b[49m\n\u001b[0;32m   2020\u001b[0m phase_barriers \u001b[38;5;241m=\u001b[39m [\n\u001b[0;32m   2021\u001b[0m     \u001b[38;5;28mself\u001b[39m\u001b[38;5;241m.\u001b[39m_basis_ref[basis][q]\u001b[38;5;241m.\u001b[39mphase\u001b[38;5;241m.\u001b[39mlast_time \u001b[38;5;28;01mfor\u001b[39;00m q \u001b[38;5;129;01min\u001b[39;00m last\u001b[38;5;241m.\u001b[39mtargets\n\u001b[0;32m   2022\u001b[0m ]\n\u001b[0;32m   2024\u001b[0m \u001b[38;5;28mself\u001b[39m\u001b[38;5;241m.\u001b[39m_schedule\u001b[38;5;241m.\u001b[39madd_pulse(\n\u001b[0;32m   2025\u001b[0m     pulse,\n\u001b[0;32m   2026\u001b[0m     channel,\n\u001b[1;32m   (...)\u001b[0m\n\u001b[0;32m   2029\u001b[0m     phase_drift_params\u001b[38;5;241m=\u001b[39mphase_drift_params,\n\u001b[0;32m   2030\u001b[0m )\n",
      "File \u001b[1;32mc:\\Users\\Kuift\\AppData\\Local\\Programs\\Python\\Python312\\Lib\\site-packages\\pulser\\sequence\\sequence.py:2311\u001b[0m, in \u001b[0;36mSequence._validate_and_adjust_pulse\u001b[1;34m(self, pulse, channel, phase_ref)\u001b[0m\n\u001b[0;32m   2308\u001b[0m     \u001b[38;5;28;01massert\u001b[39;00m detuning_map \u001b[38;5;129;01mis\u001b[39;00m \u001b[38;5;129;01mnot\u001b[39;00m \u001b[38;5;28;01mNone\u001b[39;00m\n\u001b[0;32m   2309\u001b[0m \u001b[38;5;28;01mif\u001b[39;00m detuning_map \u001b[38;5;129;01mis\u001b[39;00m \u001b[38;5;28;01mNone\u001b[39;00m:\n\u001b[0;32m   2310\u001b[0m     \u001b[38;5;66;03m# channel points to a Channel object\u001b[39;00m\n\u001b[1;32m-> 2311\u001b[0m     \u001b[43mchannel_obj\u001b[49m\u001b[38;5;241;43m.\u001b[39;49m\u001b[43mvalidate_pulse\u001b[49m\u001b[43m(\u001b[49m\u001b[43mpulse\u001b[49m\u001b[43m)\u001b[49m\n\u001b[0;32m   2312\u001b[0m \u001b[38;5;28;01melse\u001b[39;00m:\n\u001b[0;32m   2313\u001b[0m     \u001b[38;5;66;03m# channel points to a DMM object\u001b[39;00m\n\u001b[0;32m   2314\u001b[0m     cast(DMM, channel_obj)\u001b[38;5;241m.\u001b[39mvalidate_pulse(pulse, detuning_map)\n",
      "File \u001b[1;32mc:\\Users\\Kuift\\AppData\\Local\\Programs\\Python\\Python312\\Lib\\site-packages\\pulser\\channels\\base_channel.py:470\u001b[0m, in \u001b[0;36mChannel.validate_pulse\u001b[1;34m(self, pulse)\u001b[0m\n\u001b[0;32m    468\u001b[0m amp_samples_np \u001b[38;5;241m=\u001b[39m pulse\u001b[38;5;241m.\u001b[39mamplitude\u001b[38;5;241m.\u001b[39msamples\u001b[38;5;241m.\u001b[39mas_array(detach\u001b[38;5;241m=\u001b[39m\u001b[38;5;28;01mTrue\u001b[39;00m)\n\u001b[0;32m    469\u001b[0m \u001b[38;5;28;01mif\u001b[39;00m \u001b[38;5;28mself\u001b[39m\u001b[38;5;241m.\u001b[39mmax_amp \u001b[38;5;129;01mis\u001b[39;00m \u001b[38;5;129;01mnot\u001b[39;00m \u001b[38;5;28;01mNone\u001b[39;00m \u001b[38;5;129;01mand\u001b[39;00m np\u001b[38;5;241m.\u001b[39many(amp_samples_np \u001b[38;5;241m>\u001b[39m \u001b[38;5;28mself\u001b[39m\u001b[38;5;241m.\u001b[39mmax_amp):\n\u001b[1;32m--> 470\u001b[0m     \u001b[38;5;28;01mraise\u001b[39;00m \u001b[38;5;167;01mValueError\u001b[39;00m(\n\u001b[0;32m    471\u001b[0m         \u001b[38;5;124m\"\u001b[39m\u001b[38;5;124mThe pulse\u001b[39m\u001b[38;5;124m'\u001b[39m\u001b[38;5;124ms amplitude goes over the maximum \u001b[39m\u001b[38;5;124m\"\u001b[39m\n\u001b[0;32m    472\u001b[0m         \u001b[38;5;124m\"\u001b[39m\u001b[38;5;124mvalue allowed for the chosen channel.\u001b[39m\u001b[38;5;124m\"\u001b[39m\n\u001b[0;32m    473\u001b[0m     )\n\u001b[0;32m    474\u001b[0m \u001b[38;5;28;01mif\u001b[39;00m \u001b[38;5;28mself\u001b[39m\u001b[38;5;241m.\u001b[39mmax_abs_detuning \u001b[38;5;129;01mis\u001b[39;00m \u001b[38;5;129;01mnot\u001b[39;00m \u001b[38;5;28;01mNone\u001b[39;00m \u001b[38;5;129;01mand\u001b[39;00m np\u001b[38;5;241m.\u001b[39many(\n\u001b[0;32m    475\u001b[0m     np\u001b[38;5;241m.\u001b[39mround(\n\u001b[0;32m    476\u001b[0m         np\u001b[38;5;241m.\u001b[39mabs(pulse\u001b[38;5;241m.\u001b[39mdetuning\u001b[38;5;241m.\u001b[39msamples\u001b[38;5;241m.\u001b[39mas_array(detach\u001b[38;5;241m=\u001b[39m\u001b[38;5;28;01mTrue\u001b[39;00m)),\n\u001b[1;32m   (...)\u001b[0m\n\u001b[0;32m    479\u001b[0m     \u001b[38;5;241m>\u001b[39m \u001b[38;5;28mself\u001b[39m\u001b[38;5;241m.\u001b[39mmax_abs_detuning\n\u001b[0;32m    480\u001b[0m ):\n\u001b[0;32m    481\u001b[0m     \u001b[38;5;28;01mraise\u001b[39;00m \u001b[38;5;167;01mValueError\u001b[39;00m(\n\u001b[0;32m    482\u001b[0m         \u001b[38;5;124m\"\u001b[39m\u001b[38;5;124mThe pulse\u001b[39m\u001b[38;5;124m'\u001b[39m\u001b[38;5;124ms detuning values go out of the range \u001b[39m\u001b[38;5;124m\"\u001b[39m\n\u001b[0;32m    483\u001b[0m         \u001b[38;5;124m\"\u001b[39m\u001b[38;5;124mallowed for the chosen channel.\u001b[39m\u001b[38;5;124m\"\u001b[39m\n\u001b[0;32m    484\u001b[0m     )\n",
      "\u001b[1;31mValueError\u001b[0m: The pulse's amplitude goes over the maximum value allowed for the chosen channel."
     ]
    }
   ],
   "source": [
    "from pulser import Pulse, Sequence, Register\n",
    "from pulser.devices import MockDevice, AnalogDevice\n",
    "import numpy as np\n",
    "import matplotlib.pyplot as plt\n",
    "from pulser.waveforms import InterpolatedWaveform\n",
    "import pulser\n",
    "import pulser_pasqal\n",
    "def run_experiment(backend):\n",
    "    result = backend.run()\n",
    "    counts = result.sample_final_state(1000)\n",
    "    return counts\n",
    "\n",
    "C6 = 1e9  # Hz·μm^6\n",
    "d0 = 4.0  # μm\n",
    "h = d0 * np.sqrt((1/2)*(1/3) - 1/4)\n",
    "V0 = C6 / d0**6\n",
    "\n",
    "# Atom coordinates\n",
    "coords = [(-d0/2, 0), (d0/2, 0), (0, h)]\n",
    "reg = Register.from_coordinates(coords, prefix=\"q\")\n",
    "\n",
    "# Create the sequence with updated device\n",
    "seq = Sequence(reg, MockDevice)\n",
    "seq.declare_channel(\"rydberg\", \"rydberg_global\")\n",
    "\n",
    "# Choose NAND output: set to 1 (default NAND behavior) or 0 (flipped output)\n",
    "target_output = 1\n",
    "\n",
    "# Detuning ramp setup\n",
    "duration = 2000  # ns\n",
    "timesteps = 1000\n",
    "t = np.linspace(0, duration, timesteps)\n",
    "\n",
    "# Detunings (adiabatic ramps)\n",
    "delta_1 = np.linspace(2 * V0, 0, timesteps)\n",
    "delta_2 = np.linspace(2 * V0, 0, timesteps)\n",
    "delta_3 = np.linspace(3 * V0 * (1 if target_output else 1), timesteps)\n",
    "print(delta_3)\n",
    "from pulser.waveforms import InterpolatedWaveform\n",
    "from pulser.pulse import Pulse\n",
    "\n",
    "# Use the output qubit’s detuning waveform (others are omitted for simplicity)\n",
    "detuning_waveform = InterpolatedWaveform(duration, delta_3)\n",
    "pulse = Pulse.ConstantDetuning(detuning_waveform,3*V0, phase=0)\n",
    "\n",
    "seq.add(pulse, \"rydberg\")\n",
    "seq.draw()\n",
    "\n",
    "counts = run_experiment(pulser.backends.QutipBackend(seq))\n",
    "\n",
    "# Let's plot the histogram associated to the measurements\n",
    "# Let's select only the states that are measured more than 10 times\n",
    "print(counts)\n",
    "most_freq = {k: v for k, v in counts.items() if v > 10}\n",
    "plt.bar(list(most_freq.keys()), list(most_freq.values()))\n",
    "plt.xticks(rotation=\"vertical\")\n",
    "plt.show()"
   ]
  }
 ],
 "metadata": {
  "kernelspec": {
   "display_name": "Python 3",
   "language": "python",
   "name": "python3"
  },
  "language_info": {
   "codemirror_mode": {
    "name": "ipython",
    "version": 3
   },
   "file_extension": ".py",
   "mimetype": "text/x-python",
   "name": "python",
   "nbconvert_exporter": "python",
   "pygments_lexer": "ipython3",
   "version": "3.12.6"
  }
 },
 "nbformat": 4,
 "nbformat_minor": 5
}
