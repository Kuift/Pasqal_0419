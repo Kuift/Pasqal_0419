{
 "cells": [
  {
   "cell_type": "code",
   "execution_count": 3,
   "id": "2dc34248",
   "metadata": {},
   "outputs": [],
   "source": [
    "from pulser import Register, Sequence, Pulse\n",
    "from pulser.devices import MockDevice\n",
    "from pulser.waveforms import RampWaveform\n",
    "import pulser\n",
    "import matplotlib.pyplot as plt"
   ]
  },
  {
   "cell_type": "code",
   "execution_count": 9,
   "id": "df50267b",
   "metadata": {},
   "outputs": [],
   "source": [
    "def set_pulse_sequence(R_ij, delta_const):\n",
    "    reg = Register({\n",
    "    \"q0\": (0, 0),\n",
    "    \"q1\": (0, R_ij),\n",
    "    })\n",
    "\n",
    "    seq = Sequence(reg, MockDevice)\n",
    "    seq.declare_channel(\"ch3\", \"rydberg_global\")\n",
    "\n",
    "    amp1 = RampWaveform(252, 0, 12.566370614359172)\n",
    "    pulse1 = Pulse.ConstantDetuning(amp1, -delta_const, 0)\n",
    "\n",
    "    det2 = RampWaveform(800, -delta_const, -delta_const)\n",
    "    pulse2 = Pulse.ConstantAmplitude(12.566370614359172, det2, 0)\n",
    "\n",
    "    amp3 = RampWaveform(500, 12.566370614359172, 0)\n",
    "    pulse3 = Pulse.ConstantDetuning(amp3, -delta_const, 0)\n",
    "\n",
    "    seq.add(pulse1, \"ch3\")\n",
    "    seq.add(pulse2, \"ch3\")\n",
    "    seq.add(pulse3, \"ch3\")\n",
    "    seq.measure(\"ground-rydberg\")\n",
    "\n",
    "    return seq"
   ]
  },
  {
   "cell_type": "code",
   "execution_count": 12,
   "id": "79496231",
   "metadata": {},
   "outputs": [],
   "source": [
    "def run_experiment(backend):\n",
    "    print(\"supge\")\n",
    "    result = backend.run()\n",
    "    print(\"dopge\")\n",
    "    counts = result.sample_final_state(1000)\n",
    "    return counts"
   ]
  },
  {
   "cell_type": "code",
   "execution_count": null,
   "id": "f6cde451",
   "metadata": {},
   "outputs": [
    {
     "ename": "TypeError",
     "evalue": "'VirtualDevice' object is not callable",
     "output_type": "error",
     "traceback": [
      "\u001b[1;31m---------------------------------------------------------------------------\u001b[0m",
      "\u001b[1;31mTypeError\u001b[0m                                 Traceback (most recent call last)",
      "Cell \u001b[1;32mIn[16], line 2\u001b[0m\n\u001b[0;32m      1\u001b[0m \u001b[38;5;28;01mfor\u001b[39;00m i \u001b[38;5;129;01min\u001b[39;00m \u001b[38;5;28mrange\u001b[39m(\u001b[38;5;241m1\u001b[39m,\u001b[38;5;241m9\u001b[39m):\n\u001b[1;32m----> 2\u001b[0m     device \u001b[38;5;241m=\u001b[39m \u001b[43mMockDevice\u001b[49m\u001b[43m(\u001b[49m\u001b[43m)\u001b[49m\n\u001b[0;32m      3\u001b[0m     C_6 \u001b[38;5;241m=\u001b[39m device\u001b[38;5;241m.\u001b[39minteraction_coeff\n\u001b[0;32m      4\u001b[0m     R_ij \u001b[38;5;241m=\u001b[39m i\n",
      "\u001b[1;31mTypeError\u001b[0m: 'VirtualDevice' object is not callable"
     ]
    }
   ],
   "source": [
    "for i in range(1,9):\n",
    "    device = MockDevice\n",
    "    C_6 = device.interaction_coeff\n",
    "    R_ij = i\n",
    "    delta_const = C_6 / (R_ij ** 6)\n",
    "    seq = set_pulse_sequence(R_ij,delta_const)\n",
    "    counts = run_experiment(pulser.backends.QutipBackend(seq))\n",
    "    # Let's plot the histogram associated to the measurements\n",
    "    # Let's select only the states that are measured more than 10 times\n",
    "    most_freq = {k: v for k, v in counts.items() if v > 10}\n",
    "    plt.bar(list(most_freq.keys()), list(most_freq.values()))\n",
    "    plt.xticks(rotation=\"vertical\")\n",
    "    plt.show()\n",
    "\n"
   ]
  }
 ],
 "metadata": {
  "kernelspec": {
   "display_name": "Python 3",
   "language": "python",
   "name": "python3"
  },
  "language_info": {
   "codemirror_mode": {
    "name": "ipython",
    "version": 3
   },
   "file_extension": ".py",
   "mimetype": "text/x-python",
   "name": "python",
   "nbconvert_exporter": "python",
   "pygments_lexer": "ipython3",
   "version": "3.12.6"
  }
 },
 "nbformat": 4,
 "nbformat_minor": 5
}
